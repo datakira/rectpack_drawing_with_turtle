{
 "cells": [
  {
   "cell_type": "markdown",
   "metadata": {},
   "source": [
    "# Packing"
   ]
  },
  {
   "cell_type": "markdown",
   "metadata": {},
   "source": [
    "This code was forked from skjolber/3d-bin-container-packing"
   ]
  },
  {
   "cell_type": "code",
   "execution_count": 1,
   "metadata": {},
   "outputs": [],
   "source": [
    "from rectpack import newPacker"
   ]
  },
  {
   "cell_type": "code",
   "execution_count": 2,
   "metadata": {},
   "outputs": [],
   "source": [
    "rectangles = [(100, 30), (40, 60), (30, 30),(70, 70), (100, 50), (30, 30), (100, 30), (40, 60), (30, 30),(70, 70), (100, 50), (30, 30)]\n",
    "\n",
    "bins = [(300, 450)]\n",
    "\n",
    "packer = newPacker()\n",
    "\n",
    "# Add the rectangles to packing queue\n",
    "for r in rectangles:\n",
    "    packer.add_rect(*r)\n",
    "\n",
    "# Add the bins where the rectangles will be placed\n",
    "for b in bins:\n",
    "    packer.add_bin(*b)\n",
    "\n",
    "# Start packing\n",
    "packer.pack()"
   ]
  },
  {
   "cell_type": "code",
   "execution_count": 3,
   "metadata": {},
   "outputs": [],
   "source": [
    "# Obtain number of bins used for packing\n",
    "nbins = len(packer)\n",
    "\n",
    "# Index first bin\n",
    "abin = packer[0]\n",
    "\n",
    "# Bin dimmensions (bins can be reordered during packing)\n",
    "width, height = abin.width, abin.height\n",
    "\n",
    "# Number of rectangles packed into first bin\n",
    "nrect = len(packer[0])\n",
    "\n",
    "# Second bin first rectangle\n",
    "rect = packer[0][0]\n",
    "\n",
    "# rect is a Rectangle object\n",
    "x = rect.x # rectangle bottom-left x coordinate\n",
    "y = rect.y # rectangle bottom-left y coordinate\n",
    "w = rect.width\n",
    "h = rect.height"
   ]
  },
  {
   "cell_type": "code",
   "execution_count": 4,
   "metadata": {},
   "outputs": [
    {
     "name": "stdout",
     "output_type": "stream",
     "text": [
      "(0, 0, 0, 100, 50, None)\n",
      "(0, 100, 0, 100, 50, None)\n",
      "(0, 200, 0, 70, 70, None)\n",
      "(0, 0, 50, 70, 70, None)\n",
      "(0, 270, 0, 30, 100, None)\n",
      "(0, 70, 50, 100, 30, None)\n",
      "(0, 170, 70, 60, 40, None)\n",
      "(0, 230, 70, 40, 60, None)\n",
      "(0, 270, 100, 30, 30, None)\n",
      "(0, 70, 80, 30, 30, None)\n",
      "(0, 100, 80, 30, 30, None)\n",
      "(0, 130, 80, 30, 30, None)\n"
     ]
    }
   ],
   "source": [
    "# Full rectangle list\n",
    "all_rects = packer.rect_list()\n",
    "for rect in all_rects:\n",
    "    b, x, y, w, h, rid = rect\n",
    "    print(rect)\n",
    "\n",
    "# b - Bin index\n",
    "# x - Rectangle bottom-left corner x coordinate\n",
    "# y - Rectangle bottom-left corner y coordinate\n",
    "# w - Rectangle width\n",
    "# h - Rectangle height\n",
    "# rid - User asigned rectangle id or None"
   ]
  },
  {
   "cell_type": "markdown",
   "metadata": {},
   "source": [
    "# Drawing Rectangles with Turtle"
   ]
  },
  {
   "cell_type": "markdown",
   "metadata": {},
   "source": [
    "This code was Programmed by KyungheeJung - github"
   ]
  },
  {
   "cell_type": "code",
   "execution_count": 5,
   "metadata": {},
   "outputs": [],
   "source": [
    "from turtle import *\n",
    "import turtle\n",
    "import random"
   ]
  },
  {
   "cell_type": "code",
   "execution_count": 6,
   "metadata": {},
   "outputs": [],
   "source": [
    "def set_screen():\n",
    "    sc = turtle.Screen()\n",
    "    sc.bgcolor(\"white\")"
   ]
  },
  {
   "cell_type": "code",
   "execution_count": 7,
   "metadata": {},
   "outputs": [],
   "source": [
    "def change_color():\n",
    "    R = random.random()\n",
    "    B = random.random()\n",
    "    G = random.random()\n",
    "\n",
    "    turtle.color(R, G, B)"
   ]
  },
  {
   "cell_type": "code",
   "execution_count": 8,
   "metadata": {},
   "outputs": [],
   "source": [
    "def draw_rectangle(x, y, width, height):\n",
    "    turtle.shape(\"classic\")\n",
    "    turtle.width(2)\n",
    "    turtle.speed(0)\n",
    "    turtle.up()\n",
    "    turtle.goto(x, y)\n",
    "    turtle.down()\n",
    "    forward(width)          \n",
    "    turtle.left(90)\n",
    "    forward(height)\n",
    "    turtle.left(90)\n",
    "    forward(width)\n",
    "    turtle.left(90)\n",
    "    forward(height)\n",
    "    turtle.left(90)"
   ]
  },
  {
   "cell_type": "code",
   "execution_count": null,
   "metadata": {},
   "outputs": [
    {
     "name": "stdout",
     "output_type": "stream",
     "text": [
      "0 th bin Drawing Finished\n",
      "width:100,\theight:50\tRectangle was put in 0 th bin - DONE\n",
      "width:100,\theight:50\tRectangle was put in 0 th bin - DONE\n",
      "width:70,\theight:70\tRectangle was put in 0 th bin - DONE\n",
      "width:70,\theight:70\tRectangle was put in 0 th bin - DONE\n",
      "width:30,\theight:100\tRectangle was put in 0 th bin - DONE\n",
      "width:100,\theight:30\tRectangle was put in 0 th bin - DONE\n",
      "width:60,\theight:40\tRectangle was put in 0 th bin - DONE\n",
      "width:40,\theight:60\tRectangle was put in 0 th bin - DONE\n",
      "width:30,\theight:30\tRectangle was put in 0 th bin - DONE\n",
      "width:30,\theight:30\tRectangle was put in 0 th bin - DONE\n",
      "width:30,\theight:30\tRectangle was put in 0 th bin - DONE\n",
      "width:30,\theight:30\tRectangle was put in 0 th bin - DONE\n"
     ]
    }
   ],
   "source": [
    "set_screen()\n",
    "\n",
    "tmp = -1\n",
    "for i in all_rects:\n",
    "    if tmp != i[0]: # If rect index has changed, draw (new) bin. If not, don't have to draw the bin again.\n",
    "        tmp = i[0]\n",
    "        turtle.color('black')\n",
    "        draw_rectangle(0, 0, int(bins[tmp][0]), int(bins[tmp][1]))\n",
    "        print('{0} th bin Drawing Finished'.format(tmp))\n",
    "    \n",
    "    x = int(i[1])\n",
    "    y = int(i[2])\n",
    "    width = int(i[3])\n",
    "    height = int(i[4])\n",
    "    change_color()\n",
    "    draw_rectangle(x, y, width, height)\n",
    "    print('width:{0},\\theight:{1}\\tRectangle was put in {2} th bin - DONE'.format(width, height, tmp))\n",
    "\n",
    "    \n",
    "\n",
    "turtle.exitonclick()"
   ]
  },
  {
   "cell_type": "code",
   "execution_count": null,
   "metadata": {},
   "outputs": [],
   "source": []
  },
  {
   "cell_type": "code",
   "execution_count": null,
   "metadata": {},
   "outputs": [],
   "source": []
  }
 ],
 "metadata": {
  "kernelspec": {
   "display_name": "Python 3",
   "language": "python",
   "name": "python3"
  },
  "language_info": {
   "codemirror_mode": {
    "name": "ipython",
    "version": 3
   },
   "file_extension": ".py",
   "mimetype": "text/x-python",
   "name": "python",
   "nbconvert_exporter": "python",
   "pygments_lexer": "ipython3",
   "version": "3.8.5"
  },
  "toc": {
   "base_numbering": 1,
   "nav_menu": {},
   "number_sections": true,
   "sideBar": true,
   "skip_h1_title": false,
   "title_cell": "Table of Contents",
   "title_sidebar": "Contents",
   "toc_cell": false,
   "toc_position": {},
   "toc_section_display": true,
   "toc_window_display": false
  }
 },
 "nbformat": 4,
 "nbformat_minor": 4
}
